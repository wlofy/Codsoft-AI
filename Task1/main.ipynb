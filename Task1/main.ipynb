{
 "cells": [
  {
   "cell_type": "code",
   "execution_count": 1,
   "metadata": {},
   "outputs": [
    {
     "name": "stdout",
     "output_type": "stream",
     "text": [
      "Chatbot: Hello there! How can I help you?\n",
      "Chatbot: The current time is 09:44:14\n",
      "Chatbot: Goodbye! Have a nice day.\n",
      "Chatbot: I'm not sure I understand. Could you rephrase that?\n",
      "Chatbot: I'm not sure I understand. Could you rephrase that?\n",
      "Chatbot: I'm not sure I understand. Could you rephrase that?\n",
      "Chatbot: I'm not sure I understand. Could you rephrase that?\n"
     ]
    }
   ],
   "source": [
    "import re\n",
    "\n",
    "def chatbot_response(user_input):\n",
    "    user_input = user_input.lower()\n",
    "\n",
    "    if user_input in [\"hi\", \"hello\", \"hey\"]:\n",
    "        return \"Hello there! How can I help you?\"\n",
    "\n",
    "    elif user_input in [\"bye\", \"goodbye\"]:\n",
    "        return \"Goodbye! Have a nice day.\"\n",
    "\n",
    "    elif re.search(\"weather\", user_input):\n",
    "        return \"I'm not a weather expert, but you can easily check the weather online.\"\n",
    "\n",
    "    elif re.search(\"time\", user_input):\n",
    "        import datetime\n",
    "        now = datetime.datetime.now()\n",
    "        return f\"The current time is {now.strftime('%H:%M:%S')}\"\n",
    "\n",
    "    else:\n",
    "        return \"I'm not sure I understand. Could you rephrase that?\"\n",
    "\n",
    "while True:\n",
    "    user_input = input(\"You: \")\n",
    "    if user_input.lower() == \"exit\":\n",
    "        break\n",
    "    response = chatbot_response(user_input)\n",
    "    print(\"Chatbot:\", response)\n"
   ]
  }
 ],
 "metadata": {
  "kernelspec": {
   "display_name": "Python 3",
   "language": "python",
   "name": "python3"
  },
  "language_info": {
   "codemirror_mode": {
    "name": "ipython",
    "version": 3
   },
   "file_extension": ".py",
   "mimetype": "text/x-python",
   "name": "python",
   "nbconvert_exporter": "python",
   "pygments_lexer": "ipython3",
   "version": "3.11.4"
  }
 },
 "nbformat": 4,
 "nbformat_minor": 2
}
